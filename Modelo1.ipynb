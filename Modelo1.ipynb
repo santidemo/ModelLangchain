{
 "cells": [
  {
   "cell_type": "markdown",
   "metadata": {},
   "source": [
    "# Configuracion-Instalacion de librerias"
   ]
  },
  {
   "cell_type": "code",
   "execution_count": 1,
   "metadata": {},
   "outputs": [
    {
     "name": "stderr",
     "output_type": "stream",
     "text": [
      "  error: subprocess-exited-with-error\n",
      "  \n",
      "  × Building wheel for faiss-cpu (pyproject.toml) did not run successfully.\n",
      "  │ exit code: 1\n",
      "  ╰─> [8 lines of output]\n",
      "      running bdist_wheel\n",
      "      running build\n",
      "      running build_py\n",
      "      running build_ext\n",
      "      building 'faiss._swigfaiss' extension\n",
      "      swigging faiss\\faiss\\python\\swigfaiss.i to faiss\\faiss\\python\\swigfaiss_wrap.cpp\n",
      "      swig.exe -python -c++ -Doverride= -I/usr/local/include -Ifaiss -doxygen -DSWIGWIN -module swigfaiss -o faiss\\faiss\\python\\swigfaiss_wrap.cpp faiss\\faiss\\python\\swigfaiss.i\n",
      "      error: command 'swig.exe' failed: None\n",
      "      [end of output]\n",
      "  \n",
      "  note: This error originates from a subprocess, and is likely not a problem with pip.\n",
      "  ERROR: Failed building wheel for faiss-cpu\n",
      "ERROR: Could not build wheels for faiss-cpu, which is required to install pyproject.toml-based projects\n"
     ]
    }
   ],
   "source": [
    "!pip install langchain==0.0.324 faiss-cpu==1.7.4 PyPDF2==3.0.1 sentence-transformers==2.2.2 python-dotenv==1.0.0 -q"
   ]
  },
  {
   "cell_type": "markdown",
   "metadata": {},
   "source": [
    "# Subir el modelo pdf"
   ]
  },
  {
   "cell_type": "code",
   "execution_count": 4,
   "metadata": {},
   "outputs": [
    {
     "data": {
      "text/plain": [
       "26843537"
      ]
     },
     "execution_count": 4,
     "metadata": {},
     "output_type": "execute_result"
    }
   ],
   "source": [
    "import requests\n",
    "import os\n",
    "from dotenv import load_dotenv\n",
    "load_dotenv\n",
    "URL= (\"http://www.bnm.me.gov.ar/giga1/documentos/EL006510.pdf\")\n",
    "descarga = requests.get(URL)\n",
    "pdf_file = open(\"EL006510.pdf\", \"wb\")\n",
    "pdf_file.write(descarga.content)"
   ]
  },
  {
   "cell_type": "markdown",
   "metadata": {},
   "source": [
    "# Lectura del PDF"
   ]
  },
  {
   "cell_type": "code",
   "execution_count": 5,
   "metadata": {},
   "outputs": [
    {
     "name": "stdout",
     "output_type": "stream",
     "text": [
      "Collecting PyPDF2\n",
      "  Using cached pypdf2-3.0.1-py3-none-any.whl.metadata (6.8 kB)\n",
      "Using cached pypdf2-3.0.1-py3-none-any.whl (232 kB)\n",
      "Installing collected packages: PyPDF2\n",
      "Successfully installed PyPDF2-3.0.1\n"
     ]
    }
   ],
   "source": [
    "!pip install PyPDF2"
   ]
  },
  {
   "cell_type": "code",
   "execution_count": 6,
   "metadata": {},
   "outputs": [],
   "source": [
    "from PyPDF2 import PdfReader\n",
    "\n",
    "pdf_file_obj = open(\"EL006510.pdf\", \"rb\")\n",
    "pdf_reader = PdfReader(pdf_file_obj)"
   ]
  },
  {
   "cell_type": "code",
   "execution_count": 7,
   "metadata": {},
   "outputs": [],
   "source": [
    "text = \"\"\n",
    "\n",
    "for page in pdf_reader.pages:\n",
    "    text += page.extract_text()"
   ]
  },
  {
   "cell_type": "markdown",
   "metadata": {},
   "source": [
    "muestra de lo que guardo en text:"
   ]
  },
  {
   "cell_type": "code",
   "execution_count": 8,
   "metadata": {},
   "outputs": [
    {
     "name": "stdout",
     "output_type": "stream",
     "text": [
      " favorecer los intercambios, permitieron el comercio entre colonias y alentaron el desarrollo de sus posesiones ubicadas en el litoral atlántico de América, durante mucho tiempo olvidadas, y muy codiciadas por sus rivales europeos.\n",
      "Sin embargo, esta apertura de puertos y el aliento del comercio metrópoli-\n",
      "colonias, que beneficiaba, entre otras, a la ciudad de Buenos Aires, transformada en capital de un nuevo virreinato, el Virreinato del Río de la Plata, constituyó una renovada fuente de conflictos. Sólo unos pocos comerciantes, todos ellos de origen español, administraban ese fortalecido monopolio. Eran dueños de importantes compañías comerciales y disponían de los contactos y redes comerciales que vinculaban a las colonias con las principales casas de comercio de España. Muchos, y sobre todo los comerciantes criollos, quedaron afuera de estos negocios. Recordemos que también, como criollos, eran excluidos de los más importantes cargos políticos, administrativos y eclesiásticos.\n",
      "En el plano comercial, la situación descripta se modificó hacia fines del \n",
      "siglo XVIII. La monarquía española, en guerra con distintos países europeos, quedó bastante aislada de sus colonias americanas. Ello obligó a la Corona a liberalizar el comercio, modificando profundamente el monopolio establecido. Las autorizaciones para la libre introducción de esclavos y para que sus colonias pudieran comerciar con colonias extranjeras o con países neutrales, abrieron amplias posibilidades de producción e intercambio en sus posesiones en América. A pesar de estas ventajas, la nueva situación no sirvió para mejorar el vínculo metrópoli-colonias, sino para que fueran visualizadas otras posibilidades que parecían más ventajosas. Por un lado, permitió que otros competidores europeos, particularmente ingleses, ganaran cada vez más influencia. Por otra parte, y simultáneamente, muchos comerciantes de Buenos Aires, sobre todo criollos, se decidieron a romper la rutina establecida por el monopolio y se lanzaron a conquistar otros negocios y mercados. \n",
      "Progresivamente, en este transformado contexto, los nuevos comerciantes, \n",
      "dinámicos y aventureros, así como también muchos hacendados, comenzaron a palpar las ventajas del comercio libre y a tomar cada vez mayor conciencia acerca del rol intermediario (y por lo tanto parasitario) que jugaba España en la relación entre las colonias y la Europa industrial. 22 Historia arGENtiNaENCarCElamiENto d El rEy y r Evolu CióN\n",
      "El escenario que se planteó en la península ibérica durante 1808-\n",
      "1810 acentuó el clima revolucionario existente en las colonias americanas. \n",
      "Una importante consecuencia de la Revolución Francesa, además de la ya mencionada difusión de sus ideas, fue su efectiva expansión militar de la mano de Napoleón Bonaparte. En 1808, este militar francés invadió España. Entonces, el rey Carlos IV de Borbón abdicó en favor de su hijo Fernando VII quien asumió como soberano y entregó el trono español al emperador francés. Fue otra muestra de debilidad de la Corona. La península quedó desde entonces bajo control extranjero, y no de cualquiera: estaba nada menos que bajo el control de un país que había levantado las banderas de la libertad, la igualdad y la democracia. El pueblo español, en rebelión contra los invasores, desconoció la autoridad de José Bonaparte, hermano del emperador francés a quien éste había designado como su rey. Como reacción, se conformaron juntas de representación popular que guardaban fidelidad al rey Fernando VII, cautivo del i\n"
     ]
    }
   ],
   "source": [
    "print(text[26480:29998])"
   ]
  },
  {
   "cell_type": "markdown",
   "metadata": {},
   "source": [
    "# Creacion de los chunk"
   ]
  },
  {
   "cell_type": "code",
   "execution_count": 9,
   "metadata": {},
   "outputs": [],
   "source": [
    "from langchain.text_splitter import RecursiveCharacterTextSplitter"
   ]
  },
  {
   "cell_type": "code",
   "execution_count": 10,
   "metadata": {},
   "outputs": [],
   "source": [
    "text_splitter = RecursiveCharacterTextSplitter(\n",
    "    chunk_size=800,\n",
    "    chunk_overlap=100,\n",
    "    length_function=len\n",
    "    )"
   ]
  },
  {
   "cell_type": "code",
   "execution_count": 11,
   "metadata": {},
   "outputs": [],
   "source": [
    "chunks = text_splitter.split_text(text)"
   ]
  },
  {
   "cell_type": "code",
   "execution_count": 12,
   "metadata": {},
   "outputs": [
    {
     "data": {
      "text/plain": [
       "789"
      ]
     },
     "execution_count": 12,
     "metadata": {},
     "output_type": "execute_result"
    }
   ],
   "source": [
    "len(chunks)"
   ]
  },
  {
   "cell_type": "code",
   "execution_count": 13,
   "metadata": {},
   "outputs": [
    {
     "name": "stdout",
     "output_type": "stream",
     "text": [
      "................162Lámina: Represión y neoliberalismo: de la dictadura de 1976 a la crisis de 2001  ............................................172unidad 6: reconquista de los derechos  y reconstrucción de la democracia  .........175La Argentina y el resto del mundo  en los inicios del siglo XXI  ........................176Tiempos de crisis: inestabilidad política  y represión  ................................................177Néstor Kirchner y un proyectode cambio  .................................................178La reconfiguración del Estado  .................180La política de derechos humanos  ............182El nuevo mapa regional ............................ 183Cristina Fernández de Kirchner y la profundización de un modelo  ...................184Crecimiento con inclusión social\n"
     ]
    }
   ],
   "source": [
    "print(chunks[13])"
   ]
  },
  {
   "cell_type": "markdown",
   "metadata": {},
   "source": [
    "# Creacion de embedding"
   ]
  },
  {
   "cell_type": "code",
   "execution_count": 16,
   "metadata": {},
   "outputs": [],
   "source": [
    "!pip install sentence_transformers -q"
   ]
  },
  {
   "cell_type": "code",
   "execution_count": 17,
   "metadata": {},
   "outputs": [
    {
     "name": "stderr",
     "output_type": "stream",
     "text": [
      "c:\\Users\\abans\\AppData\\Local\\Programs\\Python\\Python312\\Lib\\site-packages\\sentence_transformers\\cross_encoder\\CrossEncoder.py:11: TqdmWarning: IProgress not found. Please update jupyter and ipywidgets. See https://ipywidgets.readthedocs.io/en/stable/user_install.html\n",
      "  from tqdm.autonotebook import tqdm, trange\n"
     ]
    }
   ],
   "source": [
    "from langchain.embeddings import HuggingFaceEmbeddings\n",
    "from sentence_transformers import SentenceTransformer"
   ]
  },
  {
   "cell_type": "code",
   "execution_count": 18,
   "metadata": {},
   "outputs": [
    {
     "name": "stderr",
     "output_type": "stream",
     "text": [
      "c:\\Users\\abans\\AppData\\Local\\Programs\\Python\\Python312\\Lib\\site-packages\\huggingface_hub\\file_download.py:1132: FutureWarning: `resume_download` is deprecated and will be removed in version 1.0.0. Downloads always resume when possible. If you want to force a new download, use `force_download=True`.\n",
      "  warnings.warn(\n"
     ]
    }
   ],
   "source": [
    "embeddings = HuggingFaceEmbeddings(model_name=\"sentence-transformers/paraphrase-multilingual-MiniLM-L12-v2\")"
   ]
  },
  {
   "cell_type": "code",
   "execution_count": 20,
   "metadata": {},
   "outputs": [],
   "source": [
    "model = SentenceTransformer('sentence-transformers/paraphrase-multilingual-MiniLM-L12-v2')\n",
    "sentence_embeddings = model.encode(\"Una revolución no es un hecho puntual aunque el concepto invita a pensaren cierta aceleración de hechos que terminan bruscamente con un estado de cosas para pasar a la construcción de un orden social nuevo, cuando hablamos de revolución nos referimos a procesos\")"
   ]
  },
  {
   "cell_type": "code",
   "execution_count": 21,
   "metadata": {},
   "outputs": [
    {
     "data": {
      "text/plain": [
       "384"
      ]
     },
     "execution_count": 21,
     "metadata": {},
     "output_type": "execute_result"
    }
   ],
   "source": [
    "len(sentence_embeddings)"
   ]
  },
  {
   "cell_type": "markdown",
   "metadata": {},
   "source": [
    "# Pregunta con el PDF"
   ]
  },
  {
   "cell_type": "code",
   "execution_count": 24,
   "metadata": {},
   "outputs": [],
   "source": [
    "!pip install faiss-cpu -q"
   ]
  },
  {
   "cell_type": "code",
   "execution_count": 22,
   "metadata": {},
   "outputs": [],
   "source": [
    "from langchain.vectorstores import FAISS"
   ]
  },
  {
   "cell_type": "code",
   "execution_count": 25,
   "metadata": {},
   "outputs": [],
   "source": [
    "knowledge_base = FAISS.from_texts(chunks, embeddings)"
   ]
  },
  {
   "cell_type": "markdown",
   "metadata": {},
   "source": [
    "Ejemplo 1\n"
   ]
  },
  {
   "cell_type": "code",
   "execution_count": 26,
   "metadata": {},
   "outputs": [],
   "source": [
    "pregunta = \"¿A qué llamamos revolucion?\"\n",
    "docs = knowledge_base.similarity_search(pregunta, 1)"
   ]
  },
  {
   "cell_type": "code",
   "execution_count": 30,
   "metadata": {},
   "outputs": [
    {
     "name": "stdout",
     "output_type": "stream",
     "text": [
      "[Document(page_content='Bibliografía  ...............................................206uNidad 1\\nla revolución de mayo12 Historia arGENtiNa¿a qué llamamos rE volu CióN?\\nMucho se ha escrito acerca de este concepto. En Ciencias Sociales se \\nutiliza para referir a un cambio profundo en los aspectos económicos, políticos, \\nsociales y culturales de una sociedad determinada.\\nUna revolución no es un hecho puntual; aunque el concepto invita a pensar')]\n"
     ]
    }
   ],
   "source": [
    "print(docs)"
   ]
  },
  {
   "cell_type": "markdown",
   "metadata": {},
   "source": [
    "Ejemplo 2"
   ]
  },
  {
   "cell_type": "code",
   "execution_count": 31,
   "metadata": {},
   "outputs": [],
   "source": [
    "pregunta= \"¿Que es  El iluminismo?\"\n",
    "docs= knowledge_base.similarity_search(pregunta,1)"
   ]
  },
  {
   "cell_type": "code",
   "execution_count": 32,
   "metadata": {},
   "outputs": [
    {
     "name": "stdout",
     "output_type": "stream",
     "text": [
      "[Document(page_content='en las que, durante la segunda mitad del siglo XVIII, tuvieron oportunidad de nutrirse en el pensamiento Ilustrado (o iluminista), un cuerpo de ideas que cuestionaba las estructuras basadas en la organización estamental, y los privilegios y derechos exclusivos de la nobleza. En fin, tuvieron la posibilidad de formarse en teorías que discutían la desigualdad y la tiranía de los más poderosos.')]\n"
     ]
    }
   ],
   "source": [
    "print(docs)"
   ]
  }
 ],
 "metadata": {
  "kernelspec": {
   "display_name": "Python 3",
   "language": "python",
   "name": "python3"
  },
  "language_info": {
   "codemirror_mode": {
    "name": "ipython",
    "version": 3
   },
   "file_extension": ".py",
   "mimetype": "text/x-python",
   "name": "python",
   "nbconvert_exporter": "python",
   "pygments_lexer": "ipython3",
   "version": "3.12.1"
  }
 },
 "nbformat": 4,
 "nbformat_minor": 2
}
